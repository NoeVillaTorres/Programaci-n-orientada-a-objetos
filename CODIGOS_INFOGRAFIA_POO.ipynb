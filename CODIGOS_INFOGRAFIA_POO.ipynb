{
  "nbformat": 4,
  "nbformat_minor": 0,
  "metadata": {
    "colab": {
      "provenance": []
    },
    "kernelspec": {
      "name": "python3",
      "display_name": "Python 3"
    },
    "language_info": {
      "name": "python"
    }
  },
  "cells": [
    {
      "cell_type": "code",
      "execution_count": 30,
      "metadata": {
        "id": "pK-dkbWWgJ9U"
      },
      "outputs": [],
      "source": [
        "#CLASE\n",
        "class Persona:\n",
        "    def __init__(self, nombre, edad):\n",
        "        self.nombre = nombre\n",
        "        self.edad = edad\n",
        "\n",
        "    def presentarse(self):\n",
        "        print(\"Hola, mi nombre es\", self.nombre, \"y tengo\", self.edad, \"años.\")\n",
        "\n",
        "\n"
      ]
    },
    {
      "cell_type": "code",
      "source": [
        "#OBJETO\n",
        "persona1 = Persona(\"Juan\", 25)"
      ],
      "metadata": {
        "id": "2t6bgMfghjaE"
      },
      "execution_count": 25,
      "outputs": []
    },
    {
      "cell_type": "code",
      "source": [
        "#METODOS Y ATRIBUTOS\n",
        "class Coche:\n",
        "    def __init__(self, marca, modelo, velocidad):\n",
        "        self.marca = marca\n",
        "        self.modelo = modelo\n",
        "        self.velocidad = velocidad\n",
        "\n",
        "    def acelerar(self, incremento):\n",
        "        self.velocidad += incremento\n",
        "\n",
        "# Creamos un objeto de la clase Coche\n",
        "coche1 = Coche(\"Ford\", \"Mustang\", 0)\n",
        "\n",
        "# Accedemos al atributo marca del objeto coche1\n",
        "print(\"Marca:\", coche1.marca)\n",
        "\n",
        "# Llamamos al método acelerar del objeto coche1\n",
        "coche1.acelerar(50)\n",
        "print(\"Velocidad:\", coche1.velocidad)\n"
      ],
      "metadata": {
        "colab": {
          "base_uri": "https://localhost:8080/"
        },
        "id": "wJ96zaKhihJk",
        "outputId": "e1b41507-04da-4bee-ff3d-f5df85b68b33"
      },
      "execution_count": 27,
      "outputs": [
        {
          "output_type": "stream",
          "name": "stdout",
          "text": [
            "Marca: Ford\n",
            "Velocidad: 50\n"
          ]
        }
      ]
    },
    {
      "cell_type": "code",
      "source": [
        "#INSTANCIA\n",
        "class Persona:\n",
        "    def __init__(self, nombre, edad):\n",
        "        self.nombre = nombre\n",
        "        self.edad = edad\n",
        "\n",
        "    def presentarse(self):\n",
        "        print(\"Hola, mi nombre es\", self.nombre, \"y tengo\", self.edad, \"años.\")\n",
        "\n",
        "# Creamos dos objetos de la clase Persona\n",
        "persona1 = Persona(\"Juan\", 25)\n",
        "persona2 = Persona(\"Maria\", 30)\n",
        "\n",
        "# Llamamos al método presentarse de cada objeto\n",
        "persona1.presentarse()\n",
        "persona2.presentarse()\n"
      ],
      "metadata": {
        "colab": {
          "base_uri": "https://localhost:8080/"
        },
        "id": "G1JRnKoUjdL9",
        "outputId": "ac6f7f1a-7252-4f36-ea44-c857138e1c5d"
      },
      "execution_count": 29,
      "outputs": [
        {
          "output_type": "stream",
          "name": "stdout",
          "text": [
            "Hola, mi nombre es Juan y tengo 25 años.\n",
            "Hola, mi nombre es Maria y tengo 30 años.\n"
          ]
        }
      ]
    },
    {
      "cell_type": "code",
      "source": [
        "#HERENCIA\n",
        "# Definir la clase principal (o clase padre)\n",
        "class Vehiculo:\n",
        "    def __init__(self, marca, modelo, año):\n",
        "        self.marca = marca\n",
        "        self.modelo = modelo\n",
        "        self.año = año\n",
        "        \n",
        "    def describir(self):\n",
        "        print(f\"Este vehículo es un {self.marca} {self.modelo} del año {self.año}.\")\n",
        "    \n",
        "# Definir una subclase (o clase hija) que herede de la clase principal\n",
        "class Coche(Vehiculo):\n",
        "    def __init__(self, marca, modelo, año, color):\n",
        "        super().__init__(marca, modelo, año)  # Llamando al constructor de la clase principal\n",
        "        self.color = color\n",
        "        \n",
        "    def describir(self):\n",
        "        super().describir()  # Llamando al método 'describir' de la clase principal\n",
        "        print(f\"Es de color {self.color}.\")\n",
        "\n",
        "# Crear un objeto de la subclase 'Coche'\n",
        "mi_coche = Coche(\"Toyota\", \"Corolla\", 2022, \"Rojo\")\n",
        "\n",
        "# Llamar al método 'describir' del objeto de la subclase 'Coche'\n",
        "mi_coche.describir()\n"
      ],
      "metadata": {
        "colab": {
          "base_uri": "https://localhost:8080/"
        },
        "id": "-yzgkgiakkNN",
        "outputId": "cd56a0de-cbfd-4307-becf-2192754dc606"
      },
      "execution_count": 31,
      "outputs": [
        {
          "output_type": "stream",
          "name": "stdout",
          "text": [
            "Este vehículo es un Toyota Corolla del año 2022.\n",
            "Es de color Rojo.\n"
          ]
        }
      ]
    },
    {
      "cell_type": "code",
      "source": [
        "#ENCAPSULAMIENTO\n",
        "class Persona:\n",
        "    def __init__(self, nombre, edad):\n",
        "        self.nombre = nombre\n",
        "        self.edad = edad\n",
        "        self.__correo_electronico = None  # Atributo privado\n",
        "    \n",
        "    def set_correo_electronico(self, correo):\n",
        "        self.__correo_electronico = correo\n",
        "    \n",
        "    def get_correo_electronico(self):\n",
        "        return self.__correo_electronico\n",
        "\n",
        "# Crear un objeto de la clase 'Persona'\n",
        "mi_persona = Persona(\"Juan\", 30)\n",
        "\n",
        "# Asignar un valor al atributo privado '__correo_electronico' utilizando el método público 'set_correo_electronico'\n",
        "mi_persona.set_correo_electronico(\"juan@XD.com\")\n",
        "\n",
        "# Intentar acceder directamente al atributo privado '__correo_electronico' genera un error de atributo\n",
        "# print(mi_persona.__correo_electronico)  # Esto genera un error de atributo\n",
        "\n",
        "# Acceder al valor del atributo privado '__correo_electronico' utilizando el método público 'get_correo_electronico'\n",
        "print(mi_persona.get_correo_electronico())  # Esto muestra el correo electrónico asignado\n"
      ],
      "metadata": {
        "colab": {
          "base_uri": "https://localhost:8080/"
        },
        "id": "oLmPM2w6mFdu",
        "outputId": "9afe1419-cd95-456d-c010-4b70a2ee2487"
      },
      "execution_count": 32,
      "outputs": [
        {
          "output_type": "stream",
          "name": "stdout",
          "text": [
            "juan@XD.com\n"
          ]
        }
      ]
    },
    {
      "cell_type": "code",
      "source": [
        "#ABSTRACCIÓN\n",
        "from abc import ABC, abstractmethod\n",
        "\n",
        "# Definir una clase abstracta (o interfaz) que define los métodos que deben ser implementados por las subclases\n",
        "class Figura(ABC):\n",
        "    @abstractmethod\n",
        "    def area(self):\n",
        "        pass\n",
        "\n",
        "    @abstractmethod\n",
        "    def perimetro(self):\n",
        "        pass\n",
        "\n",
        "# Definir una subclase que implementa los métodos abstractos de la clase abstracta 'Figura'\n",
        "class Cuadrado(Figura):\n",
        "    def __init__(self, lado):\n",
        "        self.lado = lado\n",
        "    \n",
        "    def area(self):\n",
        "        return self.lado * self.lado\n",
        "    \n",
        "    def perimetro(self):\n",
        "        return 4 * self.lado\n",
        "\n",
        "# Crear un objeto de la subclase 'Cuadrado' y llamar a sus métodos 'area' y 'perimetro'\n",
        "mi_cuadrado = Cuadrado(5)\n",
        "print(f\"El área del cuadrado es: {mi_cuadrado.area()}\")\n",
        "print(f\"El perímetro del cuadrado es: {mi_cuadrado.perimetro()}\")\n"
      ],
      "metadata": {
        "colab": {
          "base_uri": "https://localhost:8080/"
        },
        "id": "B-7_tHHWnBEN",
        "outputId": "b5743854-528b-4d98-dbd6-29e127cba0db"
      },
      "execution_count": 33,
      "outputs": [
        {
          "output_type": "stream",
          "name": "stdout",
          "text": [
            "El área del cuadrado es: 25\n",
            "El perímetro del cuadrado es: 20\n"
          ]
        }
      ]
    },
    {
      "cell_type": "code",
      "source": [
        "#POLIMORFISMO\n",
        "class Animal:\n",
        "    def __init__(self, nombre):\n",
        "        self.nombre = nombre\n",
        "    \n",
        "    def hacer_sonido(self):\n",
        "        pass\n",
        "\n",
        "class Perro(Animal):\n",
        "    def hacer_sonido(self):\n",
        "        return \"Woof!\"\n",
        "\n",
        "class Gato(Animal):\n",
        "    def hacer_sonido(self):\n",
        "        return \"Meow!\"\n",
        "\n",
        "# Crear una lista de objetos de diferentes clases que heredan de 'Animal'\n",
        "animales = [Perro(\"Fido\"), Gato(\"Garfield\")]\n",
        "\n",
        "# Llamar al método 'hacer_sonido' en cada objeto de la lista\n",
        "for animal in animales:\n",
        "    print(f\"{animal.nombre} dice: {animal.hacer_sonido()}\")\n"
      ],
      "metadata": {
        "colab": {
          "base_uri": "https://localhost:8080/"
        },
        "id": "Nndqn-pzoBpE",
        "outputId": "e2724a8a-1e56-4930-ca9e-ba8b7be656f0"
      },
      "execution_count": 34,
      "outputs": [
        {
          "output_type": "stream",
          "name": "stdout",
          "text": [
            "Fido dice: Woof!\n",
            "Garfield dice: Meow!\n"
          ]
        }
      ]
    },
    {
      "cell_type": "code",
      "source": [
        "#MENSAJES\n",
        "class Rectangulo:\n",
        "    def __init__(self, ancho, altura):\n",
        "        self.ancho = ancho\n",
        "        self.altura = altura\n",
        "    \n",
        "    def calcular_area(self):\n",
        "        return self.ancho * self.altura\n",
        "\n",
        "# Crear un objeto rectángulo\n",
        "mi_rectangulo = Rectangulo(5, 10)\n",
        "\n",
        "# Enviar un mensaje al objeto para calcular el área\n",
        "area = mi_rectangulo.calcular_area()\n",
        "\n",
        "# Imprimir el resultado\n",
        "print(f\"El área del rectángulo es: {area}\")\n"
      ],
      "metadata": {
        "colab": {
          "base_uri": "https://localhost:8080/"
        },
        "id": "wGRJy3cVpQGO",
        "outputId": "073cf80b-b7c6-4e2a-8a04-97be51cd9917"
      },
      "execution_count": 36,
      "outputs": [
        {
          "output_type": "stream",
          "name": "stdout",
          "text": [
            "El área del rectángulo es: 50\n"
          ]
        }
      ]
    },
    {
      "cell_type": "code",
      "source": [
        "#RELACIONES\n",
        "class Direccion:\n",
        "    def __init__(self, calle, ciudad, estado):\n",
        "        self.calle = calle\n",
        "        self.ciudad = ciudad\n",
        "        self.estado = estado\n",
        "    \n",
        "    def __str__(self):\n",
        "        return f\"{self.calle}, {self.ciudad}, {self.estado}\"\n",
        "\n",
        "class Persona:\n",
        "    def __init__(self, nombre, edad, direccion):\n",
        "        self.nombre = nombre\n",
        "        self.edad = edad\n",
        "        self.direccion = direccion\n",
        "    \n",
        "    def __str__(self):\n",
        "        return f\"{self.nombre}, {self.edad}, vive en {self.direccion}\"\n",
        "\n",
        "# Crear un objeto dirección\n",
        "direccion = Direccion(\"Calle Falsa 123\", \"Springfield\", \"Estados Unidos\")\n",
        "\n",
        "# Crear un objeto persona que tiene una dirección\n",
        "persona = Persona(\"Homero Simpson\", 42, direccion)\n",
        "\n",
        "# Imprimir la persona y su dirección\n",
        "print(persona)\n"
      ],
      "metadata": {
        "colab": {
          "base_uri": "https://localhost:8080/"
        },
        "id": "4o4Bp7rvqeyF",
        "outputId": "be91f817-720a-48a0-ba28-44e902ae1bf3"
      },
      "execution_count": 37,
      "outputs": [
        {
          "output_type": "stream",
          "name": "stdout",
          "text": [
            "Homero Simpson, 42, vive en Calle Falsa 123, Springfield, Estados Unidos\n"
          ]
        }
      ]
    }
  ]
}